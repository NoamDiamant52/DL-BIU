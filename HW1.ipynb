{"cells":[{"cell_type":"markdown","metadata":{},"source":["# heading 1\n","whats up?\n"]}],"metadata":{"language_info":{"name":"python"}},"nbformat":4,"nbformat_minor":2}
